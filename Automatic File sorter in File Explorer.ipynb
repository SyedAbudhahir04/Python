{
 "cells": [
  {
   "cell_type": "markdown",
   "metadata": {},
   "source": [
    "# Automatic File sorter in File Explorer"
   ]
  },
  {
   "cell_type": "code",
   "execution_count": 2,
   "metadata": {},
   "outputs": [],
   "source": [
    "import os,shutil"
   ]
  },
  {
   "cell_type": "code",
   "execution_count": 3,
   "metadata": {},
   "outputs": [
    {
     "name": "stdout",
     "output_type": "stream",
     "text": [
      "D:/SSMS/Automatic_File_sorter\n"
     ]
    },
    {
     "data": {
      "text/plain": [
       "str"
      ]
     },
     "execution_count": 3,
     "metadata": {},
     "output_type": "execute_result"
    }
   ],
   "source": [
    "path = r\"D:/SSMS/Automatic_File_sorter\"\n",
    "print(path)\n",
    "type(path)"
   ]
  },
  {
   "cell_type": "code",
   "execution_count": 4,
   "metadata": {},
   "outputs": [
    {
     "data": {
      "text/plain": [
       "['CSV_Files', 'Image_Files', 'Text_Files', 'Word_docs']"
      ]
     },
     "execution_count": 4,
     "metadata": {},
     "output_type": "execute_result"
    }
   ],
   "source": [
    "os.listdir(path)"
   ]
  },
  {
   "cell_type": "code",
   "execution_count": 8,
   "metadata": {},
   "outputs": [
    {
     "name": "stdout",
     "output_type": "stream",
     "text": [
      "Image_Files folder is already on the path D:/SSMS/Automatic_File_sorter\n",
      "Word_docs folder is already on the path D:/SSMS/Automatic_File_sorter\n",
      "CSV_Files folder is already on the path D:/SSMS/Automatic_File_sorter\n",
      "Text_Files folder is already on the path D:/SSMS/Automatic_File_sorter\n",
      "['CSV_Files', 'Image_Files', 'Text_Files', 'Word_docs']\n"
     ]
    }
   ],
   "source": [
    "# Creating new folders name and Check if already exists in the path, and create this New table in the path\n",
    "forders_name = ['Image_Files', 'Word_docs', 'CSV_Files', 'Text_Files']\n",
    "\n",
    "for i in forders_name:\n",
    "    if not os.path.exists(path+'/'+i):\n",
    "        os.makedirs(path+'/'+i)\n",
    "        print(i +' folder is created on the path '+ path)\n",
    "    else:\n",
    "        print(i +' folder is already on the path '+ path)\n",
    "\n",
    "    \n",
    "#Assign the listdir into an variable    \n",
    "Files_list = os.listdir(path)\n",
    "print(Files_list)\n"
   ]
  },
  {
   "cell_type": "code",
   "execution_count": 13,
   "metadata": {},
   "outputs": [
    {
     "name": "stdout",
     "output_type": "stream",
     "text": [
      "File Type is not defined or No File to Move\n",
      "File Type is not defined or No File to Move\n",
      "File Type is not defined or No File to Move\n",
      "File Type is not defined or No File to Move\n"
     ]
    }
   ],
   "source": [
    "# for loop to check for the type of file in the files_list and also in the new folders path as well,\n",
    "# if the file is not in the newly created folders, move the files from current path to the new folders path\n",
    "\n",
    "for i in Files_list:\n",
    "    if ('.csv') in i or ('.xlsx') in i and not os.path.exists(path+'/CSV_Files/'+i):\n",
    "        print(path+'/CSV_Files/'+i)\n",
    "        shutil.move(path+'/'+i,path+'/CSV_Files/'+i)\n",
    "    elif('.jpeg') in i or ('.png') in i and not os.path.exists(path+'/Image_Files/'+i):\n",
    "        print(path+'/Image_Files/'+i)\n",
    "        shutil.move(path+'/'+i,path+'/Image_Files/'+i)\n",
    "    elif('.txt') in i and not os.path.exists(path+'/Text_Files/'+i):\n",
    "        print(path+'/Text_Files/'+i)\n",
    "        shutil.move(path+'/'+i,path+'/Text_Files/'+i)\n",
    "    elif('.docx') in i and not os.path.exists(path+'/Word_docs/'+i):\n",
    "        print(path+'/Word_docs/'+i)\n",
    "        shutil.move(path+'/'+i,path+'/Word_docs/'+i)\n",
    "    else:\n",
    "        print('File Type is not defined or No File to Move')\n",
    "        "
   ]
  },
  {
   "cell_type": "code",
   "execution_count": null,
   "metadata": {},
   "outputs": [],
   "source": []
  },
  {
   "cell_type": "code",
   "execution_count": null,
   "metadata": {},
   "outputs": [],
   "source": []
  }
 ],
 "metadata": {
  "kernelspec": {
   "display_name": "Python 3",
   "language": "python",
   "name": "python3"
  },
  "language_info": {
   "codemirror_mode": {
    "name": "ipython",
    "version": 3
   },
   "file_extension": ".py",
   "mimetype": "text/x-python",
   "name": "python",
   "nbconvert_exporter": "python",
   "pygments_lexer": "ipython3",
   "version": "3.7.4"
  }
 },
 "nbformat": 4,
 "nbformat_minor": 2
}
