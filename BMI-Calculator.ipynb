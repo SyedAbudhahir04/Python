{
 "cells": [
  {
   "cell_type": "markdown",
   "metadata": {},
   "source": [
    "# BMI Calculator"
   ]
  },
  {
   "cell_type": "code",
   "execution_count": 12,
   "metadata": {},
   "outputs": [
    {
     "name": "stdin",
     "output_type": "stream",
     "text": [
      "Enter your name:  syed\n",
      "Enter your weight in pounds:  150\n",
      "Enter your height in inches:  29\n"
     ]
    },
    {
     "name": "stdout",
     "output_type": "stream",
     "text": [
      "125.38644470868014\n",
      "syed, you are morbidly obese.\n"
     ]
    }
   ],
   "source": [
    "name = input('Enter your name: ')\n",
    "weight = int(input('Enter your weight in pounds: '))\n",
    "height = int(input('Enter your height in inches: '))\n",
    "BMI = (weight * 703) / (height*height)\n",
    "print(BMI)\n",
    "\n",
    "if BMI>0:\n",
    "    if(BMI<18.5):\n",
    "        print(name+', you are underweight.')\n",
    "    elif(BMI<=24.9):\n",
    "        print(name+', you are normal weight.')\n",
    "    elif(BMI<=29.9):\n",
    "        print(name+', you are over weight.')\n",
    "    elif(BMI<=34.9):\n",
    "        print(name+', you are obese.')\n",
    "    elif(BMI<=39.9):\n",
    "        print(name+', you are severely obese.')\n",
    "    else:\n",
    "        print(name+', you are morbidly obese.')\n",
    "else:\n",
    "    print('Please enter valid input!')"
   ]
  },
  {
   "cell_type": "code",
   "execution_count": null,
   "metadata": {},
   "outputs": [],
   "source": []
  }
 ],
 "metadata": {
  "kernelspec": {
   "display_name": "Python 3",
   "language": "python",
   "name": "python3"
  },
  "language_info": {
   "codemirror_mode": {
    "name": "ipython",
    "version": 3
   },
   "file_extension": ".py",
   "mimetype": "text/x-python",
   "name": "python",
   "nbconvert_exporter": "python",
   "pygments_lexer": "ipython3",
   "version": "3.7.4"
  }
 },
 "nbformat": 4,
 "nbformat_minor": 5
}
